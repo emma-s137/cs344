{
 "cells": [
  {
   "cell_type": "code",
   "execution_count": 11,
   "metadata": {
    "collapsed": true,
    "pycharm": {
     "is_executing": false
    }
   },
   "outputs": [
    {
     "name": "stdout",
     "text": [
      "do: 0.3333333333333333\n",
      "i: 0.5\n",
      "like: 0.3333333333333333\n",
      "green: 0.01\n",
      "eggs: 0.01\n",
      "and: 0.01\n",
      "ham: 0.01\n",
      "am: 0.99\n",
      "spam: 0.99\n",
      "not: 0.99\n",
      "that: 0.99\n",
      "spamiam: 0.99\n",
      "It's spam!!\n"
     ],
     "output_type": "stream"
    }
   ],
   "source": [
    "# Probability function\n",
    "# Parameters: List of words, num of ham and spam messages, the ham and spam dictionary\n",
    "# Return: Dictionary of probabilities\n",
    "def probability(word_list, ham_n, spam_n, ham_d, spam_d):\n",
    "    probabilities = {}\n",
    "    for word in word_list:\n",
    "        if word in ham_d:\n",
    "            g = 2 * ham_d[word]\n",
    "        else:\n",
    "            g = 0\n",
    "        if word in spam_d:\n",
    "            b = spam_d[word]\n",
    "        else:\n",
    "            b = 0\n",
    "        # unless g+b < 5 would need = to be equivalent\n",
    "        # and to make up for the fact that there are\n",
    "        # very few words in the emails entered\n",
    "        if (g + b) >= 1:\n",
    "            min1 = min(1.0, b / spam_n)\n",
    "            min2 = min(1.0, g / ham_n)\n",
    "            probabilities[word] = max(0.01, min(0.99, min1 / (min2 + min1)))\n",
    "        else:\n",
    "            probabilities[word] = 0\n",
    "    return probabilities\n",
    "\n",
    "# Function to make email list\n",
    "# Parameters: Ham and Spam corpus\n",
    "# Return: List of all the words in both emails\n",
    "def make_email_list(spam, ham):\n",
    "    list = []\n",
    "    for mesg in ham:\n",
    "        for word in mesg:\n",
    "            if word.lower() not in list:\n",
    "                list.append(word.lower())\n",
    "    for mesg in spam:\n",
    "        for word in mesg:\n",
    "            if word.lower() not in list:\n",
    "                list.append(word.lower())\n",
    "    return list\n",
    "\n",
    "\n",
    "# Function to print out probabilities for entered email\n",
    "# Parameter: The dictionary of the words and calculated ham or spam probability\n",
    "# Return: void\n",
    "def print_email_values(prob_table):\n",
    "    for word in prob_table:\n",
    "        print(word + ': ' + str(prob_table[word]))\n",
    "\n",
    "# Function spam_or_ham to check an email\n",
    "# Parameters: Ham and Spam corpus\n",
    "# Return: void\n",
    "def spam_or_ham(spam, ham):\n",
    "    ham_dict = {}\n",
    "    spam_dict = {}\n",
    "    ham_n = 0\n",
    "    spam_n = 0\n",
    "\n",
    "    for mesg in ham:\n",
    "        ham_n += 1\n",
    "        for word in mesg:\n",
    "            if word.lower() in ham_dict:\n",
    "                ham_dict[word.lower()] = ham_dict[word.lower()] + 1\n",
    "            else:\n",
    "                ham_dict[word.lower()] = 1\n",
    "\n",
    "    for mesg in spam:\n",
    "        spam_n += 1\n",
    "        for word in mesg:\n",
    "            if word.lower() in spam_dict:\n",
    "                spam_dict[word.lower()] = spam_dict[word.lower()] + 1\n",
    "            else:\n",
    "                spam_dict[word.lower()] = 1\n",
    "\n",
    "    email_words = make_email_list(spam, ham)\n",
    "    list1 = ['i', 'am', 'Jacob']\n",
    "\n",
    "    email_prob = probability(email_words, ham_n, spam_n, ham_dict, spam_dict)\n",
    "    print_email_values(email_prob)\n",
    "\n",
    "    product = 1\n",
    "    comps = 1\n",
    "    for probs in email_prob:\n",
    "        if email_prob[probs] == 0:\n",
    "            product *= 0.4\n",
    "        else:\n",
    "            product *= email_prob[probs]\n",
    "        comp = 1 - email_prob[probs]\n",
    "        comps *= comp\n",
    "    answer = product / (product + comps)\n",
    "\n",
    "    if answer > 0.9:\n",
    "        print(\"It's spam!!\")\n",
    "    else:\n",
    "        print(\"It's ham!!\")\n",
    "\n",
    "\n",
    "spam_corpus = [[\"I\", \"am\", \"spam\", \"spam\", \"I\", \"am\"], [\"I\", \"do\", \"not\", \"like\", \"that\", \"spamiam\"]]\n",
    "ham_corpus = [[\"do\", \"i\", \"like\", \"green\", \"eggs\", \"and\", \"ham\"], [\"i\", \"do\"]]\n",
    "\n",
    "spam_or_ham(spam_corpus, ham_corpus)\n",
    "\n",
    "    "
   ]
  },
  {
   "cell_type": "markdown",
   "source": [
    "The spam filter behaves similarly to a Bayesian network, as you give the\n",
    "filter certain messages, and label them as being in spam or ham messages. From this, a Bayesian network is built\n",
    "that gives you the probability given certain words.\n",
    "\n",
    "A given message is then classified according to its words and their probabilities as being spam or not."
   ],
   "metadata": {
    "collapsed": false,
    "pycharm": {
     "name": "#%% md\n"
    }
   }
  },
  {
   "cell_type": "markdown",
   "source": [
    "# 2\n",
    "\n",
    "Bayesian Network"
   ],
   "metadata": {
    "collapsed": false,
    "pycharm": {
     "name": "#%% md\n"
    }
   }
  },
  {
   "cell_type": "code",
   "execution_count": 12,
   "outputs": [],
   "source": [
    "from probability import BayesNet, enumeration_ask, elimination_ask, gibbs_ask\n",
    "# Utility variables\n",
    "T, F = True, False\n",
    "\n",
    "# From AIMA code (probability.py)\n",
    "grass = BayesNet([\n",
    "    ('Cloudy', '', 0.5),\n",
    "    ('Rain', 'Cloudy', {T: 0.80, F: 0.20}),\n",
    "    ('Sprinkler', 'Cloudy', {T: 0.10, F: 0.50}),\n",
    "    ('WetGrass', 'Sprinkler Rain', {(T, T): 0.99, (T, F): 0.9, (F, T): 0.9, (F,F): 0})\n",
    "    ])"
   ],
   "metadata": {
    "collapsed": false,
    "pycharm": {
     "name": "#%%\n",
     "is_executing": false
    }
   }
  },
  {
   "cell_type": "markdown",
   "source": [
    "b.  The number of independent values in the full joint probability would be 4^2, which would be 16.\n",
    "\n",
    "c. The number of independent values in the Bayesian Network for this domain would be 9. From this we can see that using a Bayesian network simplifies the problem, and gives us less numbers to work with."
   ],
   "metadata": {
    "collapsed": false,
    "pycharm": {
     "name": "#%% md\n"
    }
   }
  },
  {
   "cell_type": "markdown",
   "source": [
    "P(Cloudy) = <0.5, 0.5>\n"
   ],
   "metadata": {
    "collapsed": false
   }
  },
  {
   "cell_type": "code",
   "execution_count": 13,
   "outputs": [
    {
     "name": "stdout",
     "text": [
      "\n",
      "Probability of Cloudy\n",
      "False: 0.5, True: 0.5\n"
     ],
     "output_type": "stream"
    }
   ],
   "source": [
    "print('\\nProbability of Cloudy')\n",
    "print(enumeration_ask('Cloudy', dict(),grass).show_approx())"
   ],
   "metadata": {
    "collapsed": false,
    "pycharm": {
     "name": "#%%\n",
     "is_executing": false
    }
   }
  },
  {
   "cell_type": "markdown",
   "source": [
    "P(Sprinkler | Cloudy) = <0.10, 0.90>"
   ],
   "metadata": {
    "collapsed": false
   }
  },
  {
   "cell_type": "code",
   "execution_count": 14,
   "outputs": [
    {
     "name": "stdout",
     "text": [
      "\n",
      "Probability of Sprinkler given its cloudy\n",
      "False: 0.9, True: 0.1\n"
     ],
     "output_type": "stream"
    }
   ],
   "source": [
    "print('\\nProbability of Sprinkler given its cloudy')\n",
    "print(enumeration_ask('Sprinkler', dict(Cloudy=T), grass).show_approx())"
   ],
   "metadata": {
    "collapsed": false,
    "pycharm": {
     "name": "#%%\n",
     "is_executing": false
    }
   }
  },
  {
   "cell_type": "markdown",
   "source": [
    "P(Cloudy | Sprinkler ^ nRain)\n",
    "\n",
    "= <P(Cloudy) * P(Sprinkler | Cloudy) * P(nRain | Cloudy), P(Cloudy) * P(Sprinkler | nCloudy) * (nRain | nCloudy) \n",
    "\n",
    "= <0.5 * 0.1 * 0.2, 0.5 * 0.5 * 0.8>\n",
    "\n",
    "= <0.01, 0.20>\n",
    "\n",
    "0.01 + 0.20 = 0.21\n",
    "\n",
    "<0.01, 0.20> / 0.21\n",
    "\n",
    "= <0.048, 0.952>"
   ],
   "metadata": {
    "collapsed": false
   }
  },
  {
   "cell_type": "code",
   "execution_count": 15,
   "outputs": [
    {
     "name": "stdout",
     "text": [
      "\n",
      "Probability of given sprinklers are on and its not raining\n",
      "False: 0.952, True: 0.0476\n"
     ],
     "output_type": "stream"
    }
   ],
   "source": [
    "print('\\nProbability of given sprinklers are on and its not raining')\n",
    "print(enumeration_ask('Cloudy', dict(Sprinkler=T, Rain=F), grass).show_approx())"
   ],
   "metadata": {
    "collapsed": false,
    "pycharm": {
     "name": "#%%\n",
     "is_executing": false
    }
   }
  },
  {
   "cell_type": "markdown",
   "source": [
    "P(WetGrass | Sprinkler ^ Cloudy ^ Rain) \n",
    "\n",
    "< P(WetGrass), P(nWetGrass>\n",
    "\n",
    "<0.99, 0.01>"
   ],
   "metadata": {
    "collapsed": false
   }
  },
  {
   "cell_type": "code",
   "execution_count": 16,
   "outputs": [
    {
     "name": "stdout",
     "text": [
      "\n",
      "Probability of WetGrass given the sprinklers are on and its cloudy and its raining\n",
      "False: 0.01, True: 0.99\n"
     ],
     "output_type": "stream"
    }
   ],
   "source": [
    "print('\\nProbability of WetGrass given the sprinklers are on and its cloudy and its raining')\n",
    "print(enumeration_ask('WetGrass',  dict(Cloudy=T, Sprinkler=T, Rain=T), grass).show_approx())"
   ],
   "metadata": {
    "collapsed": false,
    "pycharm": {
     "name": "#%%\n",
     "is_executing": false
    }
   }
  },
  {
   "cell_type": "markdown",
   "source": [
    "P(Cloudy | nWetGrass) = \n",
    "\n",
    "< P(Cloudy) * P(Sprinkler | Cloudy) * P(Rain | Cloudy) * P(nWG | Sprinkler ^ Rain)\n",
    " \\+ P(Cloudy) * P(nSprinkler | Cloudy) * P(nRain | Cloudy) * P(nWG | nSprinkler ^ nRain)\n",
    " \\+ P(Cloudy) * P(nSprinkler | Cloudy) * P(Rain | Cloudy) * P(nWG | nSprinkler ^ Rain)\n",
    " \\+ P(Cloudy) * P(Sprinkler | Cloudy) * P(nRain | Cloudy) * P(nWG | Sprinkler ^ nRain)\n",
    " \n",
    " , P(nCloudy) * P(Sprinkler | nCloudy) * P(Rain | nCloudy) * P(nWG | Sprinkler ^ Rain) \n",
    "  \\+ P(nCloudy) * P(nSprinkler | nCloudy) * P(nRain | nCloudy) * P(nWG | nSprinkler ^ nRain)\n",
    " \\+ P(nCloudy) * P(nSprinkler | nCloudy) * P(Rain | nCloudy) * P(nWG | nSprinkler ^ Rain)\n",
    " \\+ P(nCloudy) * P(Sprinkler | nCloudy) * P(nRain | nCloudy) * P(nWG | Sprinkler ^ nRain) >\n",
    " \n",
    " < 0.5 * 0.1 * 0.8 * 0.01 + 0.5 * 0.9 * 0.2 * 1 + 0.5 * 0.9 * 0.8 * 0.1 + 0.5 * 0.1 * 0.2 * 0.1\n",
    " \n",
    " , 0.5 * 0.5 * 0.2 * 0.01 + 0.5 * 0.5 * 0.8 * 1 + 0.5 * 0.5 * 0.2 * 0.1 + 0.5 * 0.5 * 0.8 * 0.1\n",
    " \n",
    " <0.0004 + 0.09 + 0.036 + 0.001, 0.0005 + 0.2 + 0.005 + 0.02>\n",
    " \n",
    " = <0.1274, 0.2255>\n",
    " \n",
    " 0.1274 + 0.2255 = 0.3529\n",
    " \n",
    " <0.1274, 0.2255> / 0.3529\n",
    " \n",
    " = <0.361, 0.639> \n",
    " "
   ],
   "metadata": {
    "collapsed": false
   }
  },
  {
   "cell_type": "code",
   "execution_count": 17,
   "outputs": [
    {
     "name": "stdout",
     "text": [
      "\n",
      "Probability of Cloudy given you do not have wet grass\n",
      "False: 0.639, True: 0.361\n"
     ],
     "output_type": "stream"
    }
   ],
   "source": [
    "print('\\nProbability of Cloudy given you do not have wet grass')\n",
    "print(enumeration_ask('Cloudy', dict(WetGrass=F),grass).show_approx())"
   ],
   "metadata": {
    "collapsed": false,
    "pycharm": {
     "name": "#%%\n",
     "is_executing": false
    }
   }
  }
 ],
 "metadata": {
  "kernelspec": {
   "display_name": "Python 3",
   "language": "python",
   "name": "python3"
  },
  "language_info": {
   "codemirror_mode": {
    "name": "ipython",
    "version": 2
   },
   "file_extension": ".py",
   "mimetype": "text/x-python",
   "name": "python",
   "nbconvert_exporter": "python",
   "pygments_lexer": "ipython2",
   "version": "2.7.6"
  },
  "pycharm": {
   "stem_cell": {
    "cell_type": "raw",
    "source": [],
    "metadata": {
     "collapsed": false
    }
   }
  }
 },
 "nbformat": 4,
 "nbformat_minor": 0
}