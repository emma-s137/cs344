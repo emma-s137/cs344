{
  "nbformat": 4,
  "nbformat_minor": 0,
  "metadata": {
    "colab": {
      "name": "homework3.ipynb",
      "provenance": [],
      "collapsed_sections": [],
      "authorship_tag": "ABX9TyP/qfMErDwAFLQB/a/i0lBq",
      "include_colab_link": true
    },
    "kernelspec": {
      "name": "python3",
      "display_name": "Python 3"
    }
  },
  "cells": [
    {
      "cell_type": "markdown",
      "metadata": {
        "id": "view-in-github",
        "colab_type": "text"
      },
      "source": [
        "<a href=\"https://colab.research.google.com/github/emma-s137/cs344/blob/master/homework3.ipynb\" target=\"_parent\"><img src=\"https://colab.research.google.com/assets/colab-badge.svg\" alt=\"Open In Colab\"/></a>"
      ]
    },
    {
      "cell_type": "code",
      "metadata": {
        "id": "UhsaLNDygOmd",
        "colab_type": "code",
        "colab": {}
      },
      "source": [
        ""
      ],
      "execution_count": 0,
      "outputs": []
    },
    {
      "cell_type": "markdown",
      "metadata": {
        "id": "0cPis6UfgPkj",
        "colab_type": "text"
      },
      "source": [
        "1. Compute the following values using the restaurant example.\n",
        "\n",
        "The *information gain* provided by using the price attribute as the root of the decision tree. Is it more or less valuable than the type or patrons attributes computed in class?\n",
        "\n",
        "\n",
        "Using data from AIMA, Section 18.3\n",
        "\n",
        "Gain (P) = Entropy(D) - Remainder (P)\n",
        "\n",
        "Entropy (Domain) = 1.0\n",
        "Remainder (Price?) = 7/12 * Entropy(\\$) + 2/12 * Entropy(\\$$) + 3/12 * Entropy(\\$$$)\n",
        "\n",
        "Entropy (\\$) = -((4/7) log (4/7) + (3/7) * log(3/7)) * (7/12) = 0.5747\n",
        "\n",
        "Entropy (\\$$) = -((2/2) log (2/2) + 0 = 0\n",
        "\n",
        "Entropy (\\$$$) = -((2/3) log (2/3) + (1/3) * log(1/3)) * (3/12) = 0.22957\n",
        "\n",
        "\n",
        "Remainder (Price?) = 0.5747 + 0 + 0.22957 = 0.8043\n",
        "\n",
        "\n",
        "Gain (H) = 1 - 0.8043\n",
        "\n",
        "Gain (Price?) = 0.1957\n",
        "\n",
        "Patrons is a more effective question with an information gain of 0.54."
      ]
    },
    {
      "cell_type": "markdown",
      "metadata": {
        "id": "ZjLxj9J-rCHi",
        "colab_type": "text"
      },
      "source": [
        "2. In class, we attempted to create by hand a neural network that computes the XOR function. If this was possible, see if you can simplify the network we built. Consider relaxing the conventions of densely-connected, sequential layers. If it was not possible, give a full explanation why it can’t be done.\n",
        "\n"
      ]
    }
  ]
}