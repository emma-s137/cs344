{
  "nbformat": 4,
  "nbformat_minor": 0,
  "metadata": {
    "colab": {
      "name": "report.ipynb",
      "provenance": [],
      "authorship_tag": "ABX9TyPC/KyzGentMBEKk36d1MUI",
      "include_colab_link": true
    },
    "kernelspec": {
      "name": "python3",
      "display_name": "Python 3"
    }
  },
  "cells": [
    {
      "cell_type": "markdown",
      "metadata": {
        "id": "view-in-github",
        "colab_type": "text"
      },
      "source": [
        "<a href=\"https://colab.research.google.com/github/emma-s137/cs344/blob/master/project/report.ipynb\" target=\"_parent\"><img src=\"https://colab.research.google.com/assets/colab-badge.svg\" alt=\"Open In Colab\"/></a>"
      ]
    },
    {
      "cell_type": "markdown",
      "metadata": {
        "id": "mC-ijFl7FWyO",
        "colab_type": "text"
      },
      "source": [
        " \n",
        "I used a V2 Plant Seedlings Dataset from lionbridge which contains images of 12 different crops during their growth cycle. I used tensorflow and keras to build two separate model architecture’s to classify the plants. A dataset containing 5,539 images was used. Although, that number was further cut down to 3,000 to allow an equal number of pictures of each plant to be used. This was done in hopes of reducing any potential bias resulting from an unequal distribution of the images.\n",
        " \n",
        "I thought this sounded very interesting because I was discussing agricultural practices in my biology class, and how it would be difficult to move over from monoculture to more sustainable agroecology because of increased labor demands. However, if you could use machine learning to allow a plant to be recognized using image recognition you could develop drones to give attention to individual plants within a system that contains a multitude of crops. This would allow for a decrease in the amount of monocultures that we use to provide food source. As these farming practices are not sustainable in the long term. Their tendencies to cause topsoil erosion and heavy pesticide use make them an undesirable farming methodology. However, with the help of weed and crop recognition we would be able to eliminate monocultures without seriously increasing the cost of our food production.\n",
        " \n",
        "Some technologies I used were keras and tensorflow. Kaggle is being utilized which provides a variety of datasets. The community also features work of various data scientists that can be replicated and referenced for other projects. Sklearn was also used to make the split between the test and training data sets. Numpy and pandas that we used in class were also used.\n",
        " \n",
        "The architecture of both models is sequential one input and one output is used. The basic model uses 3 Convulational layers and 2 Max Pooling layers. The model finishes with a softmax that will allow the output to be the category in which the image should fall.\n",
        " \n",
        "The AlexNet architecture uses 5 Convulational layers and 3 fully connected layers, 3 Max Pooling layers and a softmax that was adjusted to have 12 categories instead of 1,000.\n",
        "\n",
        "Overall, it looks as though the more simple basic architecture has a better validation accuracy of 0.58, as compared with 0.53. However, we can see at 10 epochs the model has slowed down severely in its progress, and the additional epochs would lead to more overfitting as opposed to additional accuracy.\n",
        "\n",
        "In contrast, the Alex Net architecture seems to be just getting started. We observe virtually no overfitting as the validation accuracy is better then the accuracy for the training set. In addition, the model was only trained for 10 epochs for time purposes, but the model seemed to still be advancing in the right direction when it was stopped. One article, I read discussing the architecture said that the model normally trained for 5 to 6 days. Although the limited training seems not too bad considering AlexNet is designed to classify with up to 1,000 different categories and much larger data sets.\n",
        "\n",
        "The AlexNet architecture enables it to avoid overfitting, as it uses several strategies to introduce variation into its data set. Some of these strategies are imago mirroring and random cropping. These changes will not result in a change in the overall category of the image, but will provide additional data.\n",
        "\n",
        "Some implications of this technology are that there are architectures such as AlexNet that with strong data sets and a lot of training time can be very successful for classifying into a 1,000 categories. Agriculture is just one potential use of such a technology. These types of models could be used within factories to reduce the need for workers. However, one danger of these types of models that can do image recognition is an automation of the workforce. I would say it is very important to ensure that we do not push more use of models forward, or else we may cause certain jobs to become obsolete.\n",
        "\n",
        "Nayak, Sunita. “Understanding AlexNet.” Learn OpenCV, 13 June 2018, www.learnopencv.com/understanding-alexnet/.\n",
        "“Sklearn.model_selection.train_test_split¶.” Scikit, scikit-learn.org/stable/modules/generated/sklearn.model_selection.train_test_split.html.\n",
        "Team, Keras. “Keras Documentation: The Sequential Model.” Keras, keras.io/guides/sequential_model/.\n",
        "Vbookshelf. “A Simple Keras Solution.” Kaggle, Kaggle, 28 Feb. 2019, www.kaggle.com/vbookshelf/a-simple-keras-solution.\n",
        "\n"
      ]
    }
  ]
}