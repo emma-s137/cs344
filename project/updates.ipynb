{
  "nbformat": 4,
  "nbformat_minor": 0,
  "metadata": {
    "colab": {
      "name": "updates.ipynb",
      "provenance": [],
      "authorship_tag": "ABX9TyOY7Xf9Q8ZqxcivC2ID2/Xe",
      "include_colab_link": true
    },
    "kernelspec": {
      "name": "python3",
      "display_name": "Python 3"
    }
  },
  "cells": [
    {
      "cell_type": "markdown",
      "metadata": {
        "id": "view-in-github",
        "colab_type": "text"
      },
      "source": [
        "<a href=\"https://colab.research.google.com/github/emma-s137/cs344/blob/master/project/updates.ipynb\" target=\"_parent\"><img src=\"https://colab.research.google.com/assets/colab-badge.svg\" alt=\"Open In Colab\"/></a>"
      ]
    },
    {
      "cell_type": "markdown",
      "metadata": {
        "id": "ZOZh_tIQ553X",
        "colab_type": "text"
      },
      "source": [
        "Some of the updates made were that an additional Alex Net architecture was trained for comparison to the basic framework of homework04.\n",
        "Several individual pictures were also added to be run through the basic model\n",
        "to ensure it's accuracy reporting was accurate.\n"
      ]
    }
  ]
}