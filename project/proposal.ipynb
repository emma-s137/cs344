{
 "cells": [
  {
   "cell_type": "markdown",
   "metadata": {
    "collapsed": true,
    "pycharm": {
     "name": "#%% md\n"
    }
   },
   "source": [
    "I want to use a V2 Plant Seedlings Dataset from lionbridge which contains images of 12 different crops during their\n",
    "growth cycle. I plan on using tensorflow and keras to build a convolutional neural network. The model\n",
    "would be able to classify the plants in the images.\n",
    "The dataset contains 5,539 images. Here is a link to the dataset: https://www.kaggle.com/vbookshelf/v2-plant-seedlings-dataset\n",
    "\n",
    "I plan on trying out various architectures and finding which ones seem to work best.\n",
    "Some of the architectures I plan on trying can be found here:\n",
    "https://www.analyticsvidhya.com/blog/2017/08/10-advanced-deep-learning-architectures-data-scientists/\n",
    "\n",
    "\n",
    "I thought this sounded very interesting because I was discussing agricultural practices in my biology class, and how it would\n",
    "be difficult to move over from monoculture to more sustainable agroecology because of increased labor demands. However,\n",
    "if you could use machine learning to allow a plant to be recognized using image recognition you could develop drones to\n",
    "give attention to individual plants within a system that contains a multitude of crops.\n",
    "\n",
    "\n"
   ]
  }
 ],
 "metadata": {
  "kernelspec": {
   "display_name": "Python 3",
   "language": "python",
   "name": "python3"
  },
  "language_info": {
   "codemirror_mode": {
    "name": "ipython",
    "version": 2
   },
   "file_extension": ".py",
   "mimetype": "text/x-python",
   "name": "python",
   "nbconvert_exporter": "python",
   "pygments_lexer": "ipython2",
   "version": "2.7.6"
  },
  "pycharm": {
   "stem_cell": {
    "cell_type": "raw",
    "source": [],
    "metadata": {
     "collapsed": false
    }
   }
  }
 },
 "nbformat": 4,
 "nbformat_minor": 0
}