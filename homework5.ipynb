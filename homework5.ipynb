{
 "cells": [
  {
   "cell_type": "markdown",
   "metadata": {
    "collapsed": true,
    "pycharm": {
     "name": "#%% md\n"
    }
   },
   "source": [
    "1. 7.2 (Adapted from Barwise and Etchemendy (1993).) Given the following, can you prove\n",
    "that the unicorn is mythical? How about magical? Horned?\n",
    "If the unicorn is mythical, then it is immortal, but if it is not mythical, then it is a\n",
    "mortal mammal. If the unicorn is either immortal or a mammal, then it is horned.\n",
    "The unicorn is magical if it is horned."
   ]
  },
  {
   "cell_type": "markdown",
   "source": [
    "immortal(X) :- mythical(X).\n",
    "\n",
    "mortal_mammal(X) :- not_mythical(X).\n",
    "\n",
    "horned(X) :- immortal(X) ; mortal_mammal(X).\n",
    "\n",
    "magical(X) :- horned(X).\n",
    "\n",
    "You cannot prove the unicorn is any of these things\n",
    "because you have not been given any definite starting\n",
    "characteristics for the unicorn to be able to make\n",
    "inference off of.\n",
    "\n",
    "This logic can easily put into prolog even though it still\n",
    "does not help us prove any characteristics of a unicorn.\n",
    "\n"
   ],
   "metadata": {
    "collapsed": false
   }
  },
  {
   "cell_type": "markdown",
   "source": [
    "2. Do LPN! exercise 2.4 (i.e., the crossword problem)."
   ],
   "metadata": {
    "collapsed": false
   }
  },
  {
   "cell_type": "markdown",
   "source": [
    "\n",
    "word(astante,  a,s,t,a,n,t,e).\n",
    "word(astoria,  a,s,t,o,r,i,a).\n",
    "word(baratto,  b,a,r,a,t,t,o).\n",
    "word(cobalto,  c,o,b,a,l,t,o).\n",
    "word(pistola,  p,i,s,t,o,l,a).\n",
    "word(statale,  s,t,a,t,a,l, e).\n",
    "crossword(V1, V2, V3, H1, H2, H3) : - word(V1, _, H1V1, _, H2V1, _, H3V1, _),\n",
    "                                      word(V2, _, H1V2, _, H2V2, _, H3V2, _),\n",
    "                                      word(V3, _, H1V3, _, H2V3, _, H3V3, _),\n",
    "                                      word(H1, _, H1V1, _, H1V2, _, H1V3, _),\n",
    "                                      word(H2, _, H2V1, _, H2V2, _, H2V3, _),\n",
    "                                      word(H3, _, H3V1, _, H3V2, _, H3V3, _).\n",
    "\n",
    "V1 \\= H1, H2, H3, V2, V3.\n",
    "V2 \\= H1, H2, H3, V3.\n",
    "V3 \\= H1, H2, H3.\n",
    "H1 \\= H2, H3.\n",
    "H2 \\= H3."
   ],
   "metadata": {
    "collapsed": false
   }
  }
 ],
 "metadata": {
  "kernelspec": {
   "display_name": "Python 3",
   "language": "python",
   "name": "python3"
  },
  "language_info": {
   "codemirror_mode": {
    "name": "ipython",
    "version": 2
   },
   "file_extension": ".py",
   "mimetype": "text/x-python",
   "name": "python",
   "nbconvert_exporter": "python",
   "pygments_lexer": "ipython2",
   "version": "2.7.6"
  },
  "pycharm": {
   "stem_cell": {
    "cell_type": "raw",
    "source": [],
    "metadata": {
     "collapsed": false
    }
   }
  }
 },
 "nbformat": 4,
 "nbformat_minor": 0
}