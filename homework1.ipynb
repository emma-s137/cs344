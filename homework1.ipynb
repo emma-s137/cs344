{
 "cells": [
  {
   "cell_type": "code",
   "execution_count": 31,
   "metadata": {
    "collapsed": true,
    "pycharm": {
     "is_executing": false
    }
   },
   "outputs": [],
   "source": [
    "import search\n",
    "from csp import CSP, backtracking_search, min_conflicts, parse_neighbors, mrv, forward_checking\n",
    "import random"
   ]
  },
  {
   "cell_type": "markdown",
   "source": [
    "# Homework 1"
   ],
   "metadata": {
    "collapsed": false
   }
  },
  {
   "cell_type": "markdown",
   "source": [
    "## 1.1\n",
    "\n",
    "Talk about psychologists and AI for a couple paragraphs.\n",
    "\n",
    "I think that introspection can give us insight into how we think. However, I think it would be extremely limited, as people are often not even sure of how they make their own decisions. I think that trying to model that same type of logic using AI would not be effective. You might be able to model a thought process, but some leaps that may seem random could actually come from someone's childhood background or some anecdote they once heard. Humans are not only driven by logic and reason, which makes it really hard to program. Which is most likely why the field of psychology veered away from introspection because it seemed scientifically unreliable.\n",
    "\n",
    "In my into psych class, we discussed a man who had the emotions portion of his brain destroyed (I believe the frontal lobe), so that he was driven by logic. However, it affected his ability to make simple decisions like picking between a red and blue pen. While many would think he would be able to make better decisions as a completely rational individual, it actually made it more difficult, as he did not have preferences to help sway his decisions. In this same way, it seems that a program that deals in many absolutes would not be able to replicate the complexity of a single thought.\n"
   ],
   "metadata": {
    "collapsed": false
   }
  },
  {
   "cell_type": "markdown",
   "source": [
    "## 1.2\n",
    "\n",
    "Describe your TSP problem formulation.\n",
    "\n",
    "Your starting state would be visiting all the towns in sequential order, and returning to the initial town.\n",
    "\n",
    "An action will be switching the order of two towns in order to try to optimize the solution and reduce the travel distance.\n"
   ],
   "metadata": {
    "collapsed": false
   }
  },
  {
   "cell_type": "code",
   "execution_count": 32,
   "outputs": [
    {
     "name": "stdout",
     "text": [
      "Hill-climbing solution       x: [4, 1, 2, 3, 0, 6, 9, 7, 8, 5]\tvalue: -260\t\ttime: 0.001 seconds\n",
      "Simulated annealing solution x: [9, 5, 1, 2, 4, 3, 0, 8, 7, 6]\tvalue: -171\t\ttime: 0.081 seconds\n"
     ],
     "output_type": "stream"
    }
   ],
   "source": [
    "import random \n",
    "import time\n",
    "import math\n",
    "from search import Problem, hill_climbing, simulated_annealing, \\\n",
    "    exp_schedule, genetic_search\n",
    "\n",
    "            \n",
    "class Travelingsalesman(Problem):\n",
    "\n",
    "    #Constructor has initial state and matrix of cities\n",
    "    def __init__(self, initial, cities):\n",
    "        self.initial = initial\n",
    "        self.dist_cities = cities\n",
    "        \n",
    "    #Method actions returns list of 10 random possible actions   \n",
    "    def actions(self, state):\n",
    "        options = []\n",
    "        \n",
    "        for x in range(0,10):\n",
    "            curr_path = state[:]\n",
    "            #randomly switch two of the cities in the path\n",
    "            t1 = random.randint(0, n - 1 )\n",
    "            t2 = random.randint(0, n - 1 )\n",
    "            t3 = curr_path[t1]\n",
    "            curr_path[t1] = curr_path[t2]\n",
    "            curr_path[t2] = t3\n",
    "            #add new potential path to list of options\n",
    "            options.append(curr_path)\n",
    "        return options\n",
    "    \n",
    "    def result(self, stateIgnored, x):\n",
    "        return x\n",
    "    \n",
    "    def value(self, state):\n",
    "        result = 0\n",
    "        # go through all the cities and back to original city\n",
    "        for var in range(n):\n",
    "            result += self.dist_cities[state[var]][state[((var+1) % n)]]    \n",
    "        return result * (-1)\n",
    "    \n",
    "if __name__ == '__main__':\n",
    "    list_cities = []\n",
    "\n",
    "    for val in range(0, 10):\n",
    "        list_cities.append(val)\n",
    "    \n",
    "    n = len(list_cities)\n",
    "    dist_cities = [ [ 0 for i in range(n) ] for j in range(n) ]\n",
    "    \n",
    "    for town1 in range( 0, n):\n",
    "        for town2 in range (0, n):\n",
    "            if town1 == town2:\n",
    "                dist_cities[town1][town1]= 0\n",
    "            else:\n",
    "                dist_cities[town1][town2] = random.randint(1,100)\n",
    "                dist_cities[town2][town1] = random.randint(1,100)\n",
    "     \n",
    "        \n",
    "    p = Travelingsalesman(list_cities, dist_cities)\n",
    "    \n",
    "    \n",
    "    # Code from lab02 used to print out solutions and timing\n",
    "    # Solve the problem using hill-climbing.\n",
    "    time1 = time.time()\n",
    "    hill_solution = hill_climbing(p)\n",
    "    time2 = time.time()\n",
    "    print('Hill-climbing solution       x: ' + str(hill_solution)\n",
    "            + '\\tvalue: ' + str(p.value(hill_solution))\n",
    "            + \"\\t\\ttime: %0.3f seconds\" % (time2 - time1)\n",
    "            )\n",
    "    \n",
    "    # Solve the problem using simulated annealing.\n",
    "    time1 = time.time()\n",
    "    annealing_solution = simulated_annealing(\n",
    "        p,\n",
    "        exp_schedule(k=20, lam=0.005, limit=1000)\n",
    "    )\n",
    "    time2 = time.time()\n",
    "    print('Simulated annealing solution x: ' + str(annealing_solution)\n",
    "            + '\\tvalue: ' + str(p.value(annealing_solution))\n",
    "            + \"\\t\\ttime: %0.3f seconds\" % (time2 - time1)\n",
    "            )        \n",
    "            "
   ],
   "metadata": {
    "collapsed": false,
    "pycharm": {
     "name": "#%%\n",
     "is_executing": false
    }
   }
  },
  {
   "cell_type": "markdown",
   "source": [
    "The Simulated annealing solution works better because it essentially behaves in the same manner as hill-climbing, but has the initial capability to move to less ideal states when the 'temperature is high'. This allows the algorithm to less often become stuck in local maxima, as hill climbing does.\n"
   ],
   "metadata": {
    "collapsed": false,
    "pycharm": {
     "name": "#%% md\n"
    }
   }
  },
  {
   "cell_type": "markdown",
   "source": [
    "## 1.3\n",
    "\n",
    "Describe your Course Scheduling Formulate\n",
    "\n",
    "The variable is the course while the domain are the classroom, professor, time.\n",
    "\n",
    "The Constraints are that a professor cannot be teaching two courses at once, and no classroom can be double booked during a specific time slot. And each class should be offered one time.\n",
    "\n",
    "The Neighbors were modeled after the Zebra problem.\n",
    "\n",
    "All these were used as the parameters to build a constraint satisfaction problem.\n",
    "Below is the implementation.\n",
    "\n",
    "This seemed like a good implementation style, as it made since for every class, that needs to be offered, be the variables.\n",
    "While, the domains are all the numerous possibilities of professors, times and rooms."
   ],
   "metadata": {
    "collapsed": false
   }
  },
  {
   "cell_type": "code",
   "execution_count": 33,
   "outputs": [
    {
     "name": "stdout",
     "text": [
      "{'CS108': 'Norman 8AM NH064', 'CS112': 'Adams 8AM SB382', 'CS212': 'Plantinga 9AM NH064', 'CS214': 'Adams 10AM NH064', 'CS262': 'Norman 9AM SB382', 'CS344': 'VanderLinden 10AM SB382'}\n",
      "{'CS108': 'Norman 9AM NH064', 'CS112': 'Adams 11AM SB382', 'CS212': 'Plantinga 8AM SB382', 'CS214': 'Adams 10AM NH064', 'CS262': 'Norman 9AM SB382', 'CS344': 'VanderLinden 8AM NH064'}\n"
     ],
     "output_type": "stream"
    }
   ],
   "source": [
    "courses = ['CS108', 'CS112', 'CS212', 'CS214', 'CS262', 'CS344']\n",
    "profs = ['Norman', 'Adams', 'VanderLinden', 'Plantinga']\n",
    "times =['8AM', '9AM', '10AM', '11AM']\n",
    "rooms = ['NH064', 'SB382']\n",
    "\n",
    "variables = courses\n",
    "domain = []\n",
    "\n",
    "# create list of possible combinations of 3 domains\n",
    "for prof in profs:\n",
    "    for time in times:\n",
    "        for room in rooms:\n",
    "            domain.append(prof + \" \" + time + \" \" + room)\n",
    "            \n",
    "domains = {}\n",
    "\n",
    "# make a dictionary of each course with every possible domain\n",
    "for course in courses:\n",
    "    domains[course] = domain\n",
    "\n",
    "# make neighbors modeled off of Zebra CPS\n",
    "neighbors = parse_neighbors(\"\"\"CS108: Norman 8AM\"\"\", variables)\n",
    "for type in [courses, domain]:\n",
    "        for A in type:\n",
    "            for B in type:\n",
    "                if A != B:\n",
    "                    if B not in neighbors[A]:\n",
    "                        neighbors[A].append(B)\n",
    "                    if A not in neighbors[B]:\n",
    "                        neighbors[B].append(A)\n",
    "\n",
    "\n",
    "def class_constraints(A, a, B, b):\n",
    "    a_prof = a.split()[0]\n",
    "    a_room = a.split()[1]\n",
    "    a_time = a.split()[2]\n",
    "\n",
    "    b_prof = b.split()[0]\n",
    "    b_room = b.split()[1]\n",
    "    b_time = b.split()[2]\n",
    "    \n",
    "    #prof can't teach two classes at once\n",
    "    if (a_prof == b_prof) and (a_time == b_time):\n",
    "        return False\n",
    "    #room cannot be double booked\n",
    "    if (a_room == b_room) and (a_time == b_time):\n",
    "        return False\n",
    "    \n",
    "    #Constaints to make certain professor teach certain courses\n",
    "    if A == \"CS212\" and a_prof != \"Plantinga\":\n",
    "        return False\n",
    "    if B == \"CS212\" and b_prof != \"Plantinga\":\n",
    "        return False\n",
    "                        \n",
    "    if A == \"CS112\" and a_prof != \"Adams\":\n",
    "        return False\n",
    "    if B == \"CS112\" and b_prof != \"Adams\":\n",
    "        return False\n",
    "    \n",
    "    if A == \"CS214\" and a_prof != \"Adams\":\n",
    "        return False\n",
    "    if B == \"CS214\" and b_prof != \"Adams\":\n",
    "        return False\n",
    "\n",
    "    if A == \"CS108\" and a_prof != \"Norman\":\n",
    "        return False\n",
    "    if B == \"CS108\" and b_prof != \"Norman\":\n",
    "        return False\n",
    "\n",
    "    if A == \"CS262\" and a_prof != \"Norman\":\n",
    "        return False\n",
    "    if B == \"CS262\" and b_prof != \"Norman\":\n",
    "        return False\n",
    "    \n",
    "    if A == \"CS344\" and a_prof != \"VanderLinden\":\n",
    "        return False\n",
    "    if B == \"CS344\" and b_prof != \"VanderLinden\":\n",
    "        return False\n",
    "    #if none of the constraints fail then return true\n",
    "    return True\n",
    "\n",
    "#Run problem\n",
    "problem = CSP(variables, domains, neighbors, class_constraints)\n",
    "solution = backtracking_search(problem)\n",
    "print(solution)\n",
    "solution = min_conflicts(problem)\n",
    "print(solution)\n",
    "\n",
    "    "
   ],
   "metadata": {
    "collapsed": false,
    "pycharm": {
     "name": "#%%\n",
     "is_executing": false
    }
   }
  },
  {
   "cell_type": "markdown",
   "source": [
    "\n",
    "\n",
    "\n",
    "\n",
    "\n",
    " \n",
    " \n",
    " \n",
    "\n",
    "\n",
    "\n",
    "\n",
    "\n"
   ],
   "metadata": {
    "collapsed": false,
    "pycharm": {
     "name": "#%% md\n"
    }
   }
  }
 ],
 "metadata": {
  "kernelspec": {
   "display_name": "Python 3",
   "language": "python",
   "name": "python3"
  },
  "language_info": {
   "codemirror_mode": {
    "name": "ipython",
    "version": 2
   },
   "file_extension": ".py",
   "mimetype": "text/x-python",
   "name": "python",
   "nbconvert_exporter": "python",
   "pygments_lexer": "ipython2",
   "version": "2.7.6"
  },
  "pycharm": {
   "stem_cell": {
    "cell_type": "raw",
    "source": [],
    "metadata": {
     "collapsed": false
    }
   }
  }
 },
 "nbformat": 4,
 "nbformat_minor": 0
}